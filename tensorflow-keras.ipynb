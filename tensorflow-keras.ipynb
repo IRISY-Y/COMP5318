{
 "cells": [
  {
   "cell_type": "code",
   "execution_count": 1,
   "metadata": {
    "colab": {},
    "colab_type": "code",
    "id": "lIG04aha0FFq"
   },
   "outputs": [
    {
     "name": "stderr",
     "output_type": "stream",
     "text": [
      "Using TensorFlow backend.\n"
     ]
    }
   ],
   "source": [
    "import numpy as np\n",
    "import os\n",
    "import pickle\n",
    "import h5py\n",
    "#import pandas as pd\n",
    "\n",
    "from __future__ import print_function\n",
    "import keras\n",
    "from keras.datasets import cifar100\n",
    "from keras.preprocessing.image import ImageDataGenerator\n",
    "from keras.models import Sequential\n",
    "from keras.layers import Dense, Dropout, Activation, Flatten\n",
    "from keras.layers import Conv2D, MaxPooling2D\n"
   ]
  },
  {
   "cell_type": "code",
   "execution_count": 2,
   "metadata": {
    "colab": {},
    "colab_type": "code",
    "collapsed": true,
    "id": "CyljVWl20FFt"
   },
   "outputs": [],
   "source": [
    "# get original raw data\n",
    "def get_data(raw):\n",
    "    raw_float = np.array(raw, dtype=float) \n",
    "    images = raw_float.reshape([-1, 3, 32, 32])\n",
    "    images = images.transpose([0, 2, 3, 1])\n",
    "    return images\n",
    "\n",
    "# get labels\n",
    "def get_labels(labels):\n",
    "    return np.array(labels)\n",
    "\n",
    "# input local data\n",
    "def unpickle(file):\n",
    "    import pickle\n",
    "    fo = open(file, 'rb')\n",
    "    dict = pickle.load(fo, encoding='iso-8859-1')\n",
    "    fo.close()\n",
    "    return dict\n",
    "\n",
    "# preprocessing - normalize\n",
    "def normalize(train, test):\n",
    "    mean, std = train.mean(), test.std()\n",
    "    train = (train - mean) / std\n",
    "    test = (test - mean) / std\n",
    "    return train, test"
   ]
  },
  {
   "cell_type": "code",
   "execution_count": 3,
   "metadata": {
    "colab": {},
    "colab_type": "code",
    "collapsed": true,
    "id": "0leuuPp_0FFw",
    "scrolled": false
   },
   "outputs": [],
   "source": [
    "x_train = get_data(unpickle('train')['data'])\n",
    "#print(x_train.shape)\n",
    "y_train = get_labels(unpickle('train')['fine_labels'])\n",
    "y_train = y_train.transpose()\n",
    "y_train.shape = (50000,1)\n",
    "#print(y_train.shape)\n",
    "\n",
    "x_test = get_data(unpickle('test')['data'])\n",
    "#print(x_test.shape)\n",
    "y_test = get_labels(unpickle('test')['fine_labels'])\n",
    "y_test = y_test.transpose()\n",
    "y_test.shape = (10000,1)\n",
    "#print(y_test.shape)"
   ]
  },
  {
   "cell_type": "code",
   "execution_count": 4,
   "metadata": {
    "colab": {},
    "colab_type": "code",
    "collapsed": true,
    "id": "P9EmwjVf0FFx"
   },
   "outputs": [],
   "source": [
    "classes = 100\n",
    "\n",
    "y_train = keras.utils.to_categorical(y_train, classes)\n",
    "y_test = keras.utils.to_categorical(y_test, classes)\n",
    "\n",
    "x_train = x_train.astype('float32')\n",
    "x_test = x_test.astype('float32')\n",
    "\n",
    "#x_train /= 255.0\n",
    "#x_test /= 255.0"
   ]
  },
  {
   "cell_type": "code",
   "execution_count": 5,
   "metadata": {
    "colab": {},
    "colab_type": "code",
    "collapsed": true,
    "id": "e0VoM_Mt0FFy"
   },
   "outputs": [],
   "source": [
    "x_train, x_test = normalize(x_train, x_test)"
   ]
  },
  {
   "cell_type": "code",
   "execution_count": 6,
   "metadata": {
    "colab": {},
    "colab_type": "code",
    "collapsed": true,
    "id": "SVr7z4uT0FF0"
   },
   "outputs": [],
   "source": [
    "# build training model\n",
    "\n",
    "model = Sequential()\n",
    "# layer one\n",
    "model.add(Conv2D(128,(3,3), padding = 'same', input_shape = x_train.shape[1:]))\n",
    "model.add(Activation('elu'))\n",
    "model.add(Conv2D(128, (3,3)))\n",
    "model.add(Activation('elu'))\n",
    "model.add(MaxPooling2D(pool_size=(2,2)))\n",
    "model.add(Dropout(0.25))\n",
    "\n",
    "# layer two\n",
    "model.add(Conv2D(256, (3, 3), padding='same'))\n",
    "model.add(Activation('elu'))\n",
    "model.add(Conv2D(256, (3, 3)))\n",
    "model.add(Activation('elu'))\n",
    "model.add(MaxPooling2D(pool_size=(2, 2)))\n",
    "model.add(Dropout(0.25))\n",
    "\n",
    "# layer three\n",
    "model.add(Conv2D(512, (3, 3), padding='same'))\n",
    "model.add(Activation('elu'))\n",
    "model.add(Conv2D(512, (3, 3)))\n",
    "model.add(Activation('elu'))\n",
    "model.add(MaxPooling2D(pool_size=(2, 2)))\n",
    "model.add(Dropout(0.25))\n",
    "\n",
    "\n",
    "model.add(Flatten())\n",
    "model.add(Dense(1024))\n",
    "model.add(Activation('elu'))\n",
    "model.add(Dropout(0.5))\n",
    "model.add(Dense(classes))\n",
    "model.add(Activation(\"softmax\"))\n",
    "\n",
    "\n",
    "opt = keras.optimizers.rmsprop(lr=0.0001, decay = 1e-6)\n",
    "\n",
    "model.compile(loss = 'categorical_crossentropy', optimizer=opt, metrics = ['accuracy'])"
   ]
  },
  {
   "cell_type": "code",
   "execution_count": 7,
   "metadata": {
    "colab": {
     "base_uri": "https://localhost:8080/",
     "height": 1000
    },
    "colab_type": "code",
    "id": "2DrANW4c0FF1",
    "outputId": "a3535788-dc93-4150-9786-6e5d99364035"
   },
   "outputs": [
    {
     "name": "stdout",
     "output_type": "stream",
     "text": [
      "**********begin***************\n",
      "WARNING:tensorflow:Variable *= will be deprecated. Use variable.assign_mul if you want assignment to the variable value or 'x = x * y' if you want a new python Tensor object.\n",
      "Train on 50000 samples, validate on 10000 samples\n",
      "Epoch 1/50\n",
      "50000/50000 [==============================] - 150s 3ms/step - loss: 3.8380 - acc: 0.1215 - val_loss: 3.5437 - val_acc: 0.1738\n",
      "Epoch 2/50\n",
      "50000/50000 [==============================] - 139s 3ms/step - loss: 3.1546 - acc: 0.2402 - val_loss: 2.8100 - val_acc: 0.3083\n",
      "Epoch 3/50\n",
      "50000/50000 [==============================] - 139s 3ms/step - loss: 2.8289 - acc: 0.3041 - val_loss: 2.5867 - val_acc: 0.3581\n",
      "Epoch 4/50\n",
      "50000/50000 [==============================] - 139s 3ms/step - loss: 2.5940 - acc: 0.3540 - val_loss: 2.4016 - val_acc: 0.3900\n",
      "Epoch 5/50\n",
      "50000/50000 [==============================] - 139s 3ms/step - loss: 2.4162 - acc: 0.3902 - val_loss: 2.2048 - val_acc: 0.4366\n",
      "Epoch 6/50\n",
      "50000/50000 [==============================] - 139s 3ms/step - loss: 2.2605 - acc: 0.4234 - val_loss: 2.1607 - val_acc: 0.4435\n",
      "Epoch 7/50\n",
      "50000/50000 [==============================] - 139s 3ms/step - loss: 2.1196 - acc: 0.4525 - val_loss: 2.0198 - val_acc: 0.4772\n",
      "Epoch 8/50\n",
      "50000/50000 [==============================] - 140s 3ms/step - loss: 1.9830 - acc: 0.4795 - val_loss: 2.0730 - val_acc: 0.4744\n",
      "Epoch 9/50\n",
      "50000/50000 [==============================] - 139s 3ms/step - loss: 1.8622 - acc: 0.5086 - val_loss: 1.9544 - val_acc: 0.4933\n",
      "Epoch 10/50\n",
      "50000/50000 [==============================] - 140s 3ms/step - loss: 1.7348 - acc: 0.5379 - val_loss: 1.9376 - val_acc: 0.5043\n",
      "Epoch 11/50\n",
      "50000/50000 [==============================] - 142s 3ms/step - loss: 1.6176 - acc: 0.5652 - val_loss: 1.9243 - val_acc: 0.5134\n",
      "Epoch 12/50\n",
      "50000/50000 [==============================] - 142s 3ms/step - loss: 1.4933 - acc: 0.5932 - val_loss: 1.8473 - val_acc: 0.5285\n",
      "Epoch 13/50\n",
      "50000/50000 [==============================] - 142s 3ms/step - loss: 1.3922 - acc: 0.6159 - val_loss: 1.9566 - val_acc: 0.5162\n",
      "Epoch 14/50\n",
      "50000/50000 [==============================] - 145s 3ms/step - loss: 1.2902 - acc: 0.6385 - val_loss: 1.8347 - val_acc: 0.5361\n",
      "Epoch 15/50\n",
      "50000/50000 [==============================] - 143s 3ms/step - loss: 1.1907 - acc: 0.6657 - val_loss: 1.8582 - val_acc: 0.5328\n",
      "Epoch 16/50\n",
      "50000/50000 [==============================] - 142s 3ms/step - loss: 1.0894 - acc: 0.6906 - val_loss: 1.8508 - val_acc: 0.5348\n",
      "Epoch 17/50\n",
      "50000/50000 [==============================] - 142s 3ms/step - loss: 1.0152 - acc: 0.7088 - val_loss: 1.8036 - val_acc: 0.5500\n",
      "Epoch 18/50\n",
      "50000/50000 [==============================] - 140s 3ms/step - loss: 0.9203 - acc: 0.7315 - val_loss: 1.8736 - val_acc: 0.5483\n",
      "Epoch 19/50\n",
      "50000/50000 [==============================] - 140s 3ms/step - loss: 0.8466 - acc: 0.7494 - val_loss: 1.8647 - val_acc: 0.5527\n",
      "Epoch 20/50\n",
      "50000/50000 [==============================] - 141s 3ms/step - loss: 0.7684 - acc: 0.7721 - val_loss: 1.9316 - val_acc: 0.5482\n",
      "Epoch 21/50\n",
      "50000/50000 [==============================] - 140s 3ms/step - loss: 0.7072 - acc: 0.7867 - val_loss: 1.9119 - val_acc: 0.5491\n",
      "Epoch 22/50\n",
      "50000/50000 [==============================] - 140s 3ms/step - loss: 0.6573 - acc: 0.8002 - val_loss: 1.9558 - val_acc: 0.5548\n",
      "Epoch 23/50\n",
      "50000/50000 [==============================] - 141s 3ms/step - loss: 0.5997 - acc: 0.8195 - val_loss: 2.1230 - val_acc: 0.5527\n",
      "Epoch 24/50\n",
      "50000/50000 [==============================] - 141s 3ms/step - loss: 0.5558 - acc: 0.8307 - val_loss: 2.0023 - val_acc: 0.5593\n",
      "Epoch 25/50\n",
      "50000/50000 [==============================] - 140s 3ms/step - loss: 0.5120 - acc: 0.8433 - val_loss: 2.0352 - val_acc: 0.5608\n",
      "Epoch 26/50\n",
      "50000/50000 [==============================] - 139s 3ms/step - loss: 0.4663 - acc: 0.8569 - val_loss: 2.2061 - val_acc: 0.5583\n",
      "Epoch 27/50\n",
      "50000/50000 [==============================] - 140s 3ms/step - loss: 0.4403 - acc: 0.8630 - val_loss: 2.0925 - val_acc: 0.5651\n",
      "Epoch 28/50\n",
      "50000/50000 [==============================] - 142s 3ms/step - loss: 0.4050 - acc: 0.8742 - val_loss: 2.1121 - val_acc: 0.5589\n",
      "Epoch 29/50\n",
      "50000/50000 [==============================] - 139s 3ms/step - loss: 0.3811 - acc: 0.8817 - val_loss: 2.1355 - val_acc: 0.5557\n",
      "Epoch 30/50\n",
      "50000/50000 [==============================] - 139s 3ms/step - loss: 0.3672 - acc: 0.8857 - val_loss: 2.1200 - val_acc: 0.5628\n",
      "Epoch 31/50\n",
      "50000/50000 [==============================] - 140s 3ms/step - loss: 0.3350 - acc: 0.8961 - val_loss: 2.2019 - val_acc: 0.5611\n",
      "Epoch 32/50\n",
      "50000/50000 [==============================] - 140s 3ms/step - loss: 0.3191 - acc: 0.9000 - val_loss: 2.2408 - val_acc: 0.5529\n",
      "Epoch 33/50\n",
      "50000/50000 [==============================] - 141s 3ms/step - loss: 0.2999 - acc: 0.9057 - val_loss: 2.1092 - val_acc: 0.5571\n",
      "Epoch 34/50\n",
      "50000/50000 [==============================] - 140s 3ms/step - loss: 0.2881 - acc: 0.9102 - val_loss: 2.2447 - val_acc: 0.5637\n",
      "Epoch 35/50\n",
      "50000/50000 [==============================] - 140s 3ms/step - loss: 0.2777 - acc: 0.9124 - val_loss: 2.1775 - val_acc: 0.5554\n",
      "Epoch 36/50\n",
      "50000/50000 [==============================] - 139s 3ms/step - loss: 0.2660 - acc: 0.9167 - val_loss: 2.3482 - val_acc: 0.5608\n",
      "Epoch 37/50\n",
      "50000/50000 [==============================] - 139s 3ms/step - loss: 0.2506 - acc: 0.9226 - val_loss: 2.3734 - val_acc: 0.5601\n",
      "Epoch 38/50\n",
      "50000/50000 [==============================] - 139s 3ms/step - loss: 0.2498 - acc: 0.9227 - val_loss: 2.1798 - val_acc: 0.5525\n",
      "Epoch 39/50\n",
      "50000/50000 [==============================] - 140s 3ms/step - loss: 0.2330 - acc: 0.9272 - val_loss: 2.3900 - val_acc: 0.5595\n",
      "Epoch 40/50\n",
      "50000/50000 [==============================] - 140s 3ms/step - loss: 0.2234 - acc: 0.9306 - val_loss: 2.2966 - val_acc: 0.5583\n",
      "Epoch 41/50\n",
      "50000/50000 [==============================] - 140s 3ms/step - loss: 0.2236 - acc: 0.9314 - val_loss: 2.4670 - val_acc: 0.5550\n",
      "Epoch 42/50\n",
      "50000/50000 [==============================] - 140s 3ms/step - loss: 0.2122 - acc: 0.9346 - val_loss: 2.4016 - val_acc: 0.5594\n",
      "Epoch 43/50\n",
      "50000/50000 [==============================] - 141s 3ms/step - loss: 0.2055 - acc: 0.9364 - val_loss: 2.3090 - val_acc: 0.5408\n",
      "Epoch 44/50\n",
      "50000/50000 [==============================] - 140s 3ms/step - loss: 0.1982 - acc: 0.9375 - val_loss: 2.5501 - val_acc: 0.5564\n",
      "Epoch 45/50\n",
      "50000/50000 [==============================] - 141s 3ms/step - loss: 0.1987 - acc: 0.9378 - val_loss: 2.7282 - val_acc: 0.5589\n",
      "Epoch 46/50\n",
      "50000/50000 [==============================] - 141s 3ms/step - loss: 0.1948 - acc: 0.9389 - val_loss: 2.3028 - val_acc: 0.5599\n",
      "Epoch 47/50\n",
      "50000/50000 [==============================] - 140s 3ms/step - loss: 0.1879 - acc: 0.9423 - val_loss: 2.5666 - val_acc: 0.5624\n",
      "Epoch 48/50\n",
      "50000/50000 [==============================] - 140s 3ms/step - loss: 0.1784 - acc: 0.9454 - val_loss: 2.5132 - val_acc: 0.5566\n",
      "Epoch 49/50\n",
      "50000/50000 [==============================] - 140s 3ms/step - loss: 0.1775 - acc: 0.9454 - val_loss: 2.6277 - val_acc: 0.5612\n",
      "Epoch 50/50\n",
      "50000/50000 [==============================] - 141s 3ms/step - loss: 0.1808 - acc: 0.9439 - val_loss: 2.9002 - val_acc: 0.5653\n",
      "***********done*************\n"
     ]
    }
   ],
   "source": [
    "epochs = 50\n",
    "data_augmentation = False\n",
    "predictions = 20\n",
    "batch_size = 64\n",
    "validation = []\n",
    "\n",
    "# train the model and record loss and accuracy\n",
    "print(\"**********begin***************\")\n",
    "hist = model.fit(x_train, y_train, batch_size= batch_size, epochs = epochs, validation_data = (x_test, y_test), shuffle = True)\n",
    "with open('best1.txt','w') as f:\n",
    "    f.write(str(hist.history))\n",
    "print(\"***********done*************\")"
   ]
  },
  {
   "cell_type": "code",
   "execution_count": 8,
   "metadata": {
    "colab": {},
    "colab_type": "code",
    "collapsed": true,
    "id": "GAnluFcw0FF3",
    "scrolled": true
   },
   "outputs": [],
   "source": [
    "# evaluate the accuracy of model\n",
    "\n",
    "score = model.evaluate(x_test, y_test, verbose = 0)"
   ]
  },
  {
   "cell_type": "code",
   "execution_count": 9,
   "metadata": {
    "colab": {
     "base_uri": "https://localhost:8080/",
     "height": 35
    },
    "colab_type": "code",
    "id": "8LUE12AQ0FF4",
    "outputId": "045cf3c8-bc4d-457a-8d82-d827bbfd3504"
   },
   "outputs": [
    {
     "name": "stdout",
     "output_type": "stream",
     "text": [
      "Test loss: 2.90024401932\n"
     ]
    }
   ],
   "source": [
    "print('Test loss:', score[0])"
   ]
  },
  {
   "cell_type": "code",
   "execution_count": 10,
   "metadata": {
    "colab": {
     "base_uri": "https://localhost:8080/",
     "height": 35
    },
    "colab_type": "code",
    "id": "6D_ItS8L0FF6",
    "outputId": "5c5c9480-2aaf-45de-c385-3b7a867b26e0"
   },
   "outputs": [
    {
     "name": "stdout",
     "output_type": "stream",
     "text": [
      "Test accuracy: 0.5653\n"
     ]
    }
   ],
   "source": [
    "print('Test accuracy:', score[1])"
   ]
  },
  {
   "cell_type": "code",
   "execution_count": 12,
   "metadata": {
    "colab": {
     "base_uri": "https://localhost:8080/",
     "height": 35
    },
    "colab_type": "code",
    "id": "Eo7op6GG0FF7",
    "outputId": "8d9ed210-ad20-4270-f13f-2f14fd234488"
   },
   "outputs": [],
   "source": [
    "#from sklearn.metrics import recall_score\n",
    "\n",
    "#y_true = [0, 1, 2, 0, 1, 2]\n",
    "#y_pred = [0, 2, 1, 0, 0, 1]\n",
    "#recall_score(y_true, y_pred, average='macro')\n"
   ]
  },
  {
   "cell_type": "code",
   "execution_count": 13,
   "metadata": {
    "colab": {
     "base_uri": "https://localhost:8080/",
     "height": 35
    },
    "colab_type": "code",
    "collapsed": true,
    "id": "brZ-X2PdIfdD",
    "outputId": "5f5aa529-98bf-4c87-f713-e51d35d3d442"
   },
   "outputs": [],
   "source": [
    "#from sklearn.metrics import precision_score\n",
    "\n",
    "#y_true = [0, 1, 2, 0, 1, 2]\n",
    "#y_pred = [0, 2, 1, 0, 0, 1]\n",
    "#precision_score(y_true, y_pred, average='macro')"
   ]
  },
  {
   "cell_type": "code",
   "execution_count": 15,
   "metadata": {
    "colab": {
     "base_uri": "https://localhost:8080/",
     "height": 35
    },
    "colab_type": "code",
    "id": "Z7kTapn6R5nw",
    "outputId": "31f6f4f7-42ec-4c5c-a9bd-cafa4990d5af"
   },
   "outputs": [],
   "source": [
    "#import seaborn as sns\n",
    "#from sklearn.metrics import confusion_matrix\n",
    "#import matplotlib.pyplot as plt\n",
    "\n",
    "#y_pred = model.predict_classes(x_test)\n",
    "#print(y_pred)\n",
    "#y_test = get_labels(unpickle('test')['fine_labels'])\n",
    "#print(y_test)"
   ]
  },
  {
   "cell_type": "code",
   "execution_count": 16,
   "metadata": {
    "colab": {
     "base_uri": "https://localhost:8080/",
     "height": 675
    },
    "colab_type": "code",
    "collapsed": true,
    "id": "wADXJI-yIkEw",
    "outputId": "a226a8f0-8651-46ca-f986-3ed41390ae06"
   },
   "outputs": [],
   "source": [
    "# get the confusion matrix \n",
    "#cm = confusion_matrix(y_test, y_pred)\n",
    "\n",
    "#print(\"Confusion Matrix\")\n",
    "#print(cm.shape)\n",
    "#plt.figure(figsize=(10,10))\n",
    "#sns.heatmap(cm[45:65,45:65],annot=True,fmt=\"d\",cmap=\"YlGnBu\")\n",
    "#plt.ylabel(\"true labels\")\n",
    "#plt.xlabel(\"predict labels\")\n",
    "#plt.title(\"Confusion Matrix\")"
   ]
  },
  {
   "cell_type": "code",
   "execution_count": null,
   "metadata": {
    "collapsed": true
   },
   "outputs": [],
   "source": []
  }
 ],
 "metadata": {
  "accelerator": "GPU",
  "colab": {
   "collapsed_sections": [],
   "name": "CNN.ipynb",
   "provenance": []
  },
  "kernelspec": {
   "display_name": "Python 3",
   "language": "python",
   "name": "python3"
  },
  "language_info": {
   "codemirror_mode": {
    "name": "ipython",
    "version": 3
   },
   "file_extension": ".py",
   "mimetype": "text/x-python",
   "name": "python",
   "nbconvert_exporter": "python",
   "pygments_lexer": "ipython3",
   "version": "3.5.2"
  }
 },
 "nbformat": 4,
 "nbformat_minor": 1
}
